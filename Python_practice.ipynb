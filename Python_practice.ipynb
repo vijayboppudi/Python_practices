{
 "cells": [
  {
   "cell_type": "code",
   "execution_count": 1,
   "id": "3fef41ff",
   "metadata": {},
   "outputs": [
    {
     "name": "stdout",
     "output_type": "stream",
     "text": [
      "virat kohli age is: 35\n",
      "virat kohli average is: 48.333333333333336\n",
      "roger federer age is: 42\n"
     ]
    }
   ],
   "source": [
    "import datetime\n",
    "\n",
    "class player():\n",
    "    def __init__(self, fname, lname, birth_year):\n",
    "        self.first_name = fname\n",
    "        self.last_name = lname\n",
    "        self.birth_year = birth_year\n",
    "\n",
    "    def get_age(self):\n",
    "        now = datetime.datetime.now()\n",
    "        return now.year - self.birth_year\n",
    "\n",
    "class cricketplayer(player):\n",
    "    def __init__(self, fname, lname, birth_year, team):\n",
    "        player.__init__(self, fname, lname, birth_year)\n",
    "        self.team = team\n",
    "        self.scores = []\n",
    "\n",
    "    def add_score(self, score):\n",
    "        self.scores.append(score)\n",
    "\n",
    "    def get_average_score(self):\n",
    "        return sum(self.scores)/len(self.scores)\n",
    "\n",
    "class tennisplayer(player):\n",
    "    def __init__(self, fname, lname, birth_year, gwinner):\n",
    "        player.__init__(self, fname, lname, birth_year)\n",
    "        self.grand_slam_winner = gwinner\n",
    "        self.aces = []\n",
    "\n",
    "virat = cricketplayer('virat', 'kohli', 1988, 'india')\n",
    "virat.add_score(37)\n",
    "virat.add_score(23)\n",
    "virat.add_score(85)\n",
    "\n",
    "print(\"virat kohli age is:\", virat.get_age())\n",
    "print(\"virat kohli average is:\", virat.get_average_score())\n",
    "\n",
    "roger = tennisplayer('roger', 'federer', 1981, 20)\n",
    "print(\"roger federer age is:\", roger.get_age())"
   ]
  },
  {
   "cell_type": "code",
   "execution_count": 5,
   "id": "b30af3cf",
   "metadata": {},
   "outputs": [
    {
     "name": "stdout",
     "output_type": "stream",
     "text": [
      "what's your choice,'r' for rock,'p' for paper,'s' for scissors:r\n",
      "you won\n"
     ]
    }
   ],
   "source": [
    "import random\n",
    "def play():\n",
    "    user = input(\"what's your choice,'r' for rock,'p' for paper,'s' for scissors:\")\n",
    "    computer = random.choice(['r','p','s'])\n",
    "\n",
    "    if user == computer:\n",
    "        return 'It is a tie'\n",
    "    if is_win(user,computer):\n",
    "        return 'you won'\n",
    "    else:\n",
    "        return 'you lost'\n",
    "\n",
    "def is_win(player,opponent):\n",
    "        if (player == 'r' and opponent == 's') or (player == 's' and opponent == 'p') or (player == 'p' and opponent == 'r'):\n",
    "            return True\n",
    "\n",
    "print(play())"
   ]
  },
  {
   "cell_type": "code",
   "execution_count": null,
   "id": "49add099",
   "metadata": {},
   "outputs": [],
   "source": [
    "import random\n",
    "def myguess(x):\n",
    "    random_number = random.randint(1,x)\n",
    "    myguess = 0\n",
    "    while myguess != random_number:\n",
    "        myguess = int(input(f'please guess a number between 1 and {x} :'))\n",
    "        if myguess < random_number:\n",
    "            print('sorry,the number is too low,guess again')\n",
    "        elif myguess > random_number:\n",
    "            print('sorry,the number is too high,guess again')\n",
    "\n",
    "    print(f'yes , you have guessed the number {random_number} correctly.')\n",
    "\n",
    "myguess(10)"
   ]
  },
  {
   "cell_type": "code",
   "execution_count": null,
   "id": "d6a2723b",
   "metadata": {},
   "outputs": [],
   "source": [
    "import random\n",
    "def guess(x):\n",
    "    random_number = random.randint(1,x)\n",
    "    guess = 0\n",
    "    while guess != random_number:\n",
    "        guess = int(input(f'guess a number between 1 and {x} : '))\n",
    "        if guess > random_number:\n",
    "           print('sorry,the number is too high')\n",
    "        elif guess < random_number:\n",
    "           print('sorry,the number is too low')\n",
    "\n",
    "    print(f'yes,you have guessed the number {random_number} correctly.')\n",
    "\n",
    "def computer_guess(x):\n",
    "    low = 1\n",
    "    high = x\n",
    "    feedback = ''\n",
    "    while feedback != 'c':\n",
    "        if low != high:\n",
    "            guess = random.randint(low,high)\n",
    "        else:\n",
    "            guess = low\n",
    "        feedback = input(f'Is {guess} is too high(H),or too low(L),or correct(C): ').lower()\n",
    "        if feedback == 'h':\n",
    "            high = guess - 1\n",
    "        elif feedback == 'l':\n",
    "            low = guess + 1\n",
    "\n",
    "    print(f'Yes,the computer has guessed the number {guess} correctly.')\n",
    "\n",
    "computer_guess(1000)"
   ]
  },
  {
   "cell_type": "code",
   "execution_count": null,
   "id": "87d4bc2d",
   "metadata": {},
   "outputs": [],
   "source": [
    "import calendar\n",
    "year = int(input(\"Enter Year:\"))\n",
    "month = int(input(\"Enter month: \"))\n",
    "print(calendar.month(year,month))"
   ]
  }
 ],
 "metadata": {
  "kernelspec": {
   "display_name": "Python 3 (ipykernel)",
   "language": "python",
   "name": "python3"
  },
  "language_info": {
   "codemirror_mode": {
    "name": "ipython",
    "version": 3
   },
   "file_extension": ".py",
   "mimetype": "text/x-python",
   "name": "python",
   "nbconvert_exporter": "python",
   "pygments_lexer": "ipython3",
   "version": "3.10.9"
  }
 },
 "nbformat": 4,
 "nbformat_minor": 5
}
