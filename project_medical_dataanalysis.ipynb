{
 "cells": [
  {
   "cell_type": "markdown",
   "id": "5cee3717",
   "metadata": {},
   "source": [
    "# Medical_data_extraction"
   ]
  },
  {
   "cell_type": "code",
   "execution_count": 43,
   "id": "26792dd1",
   "metadata": {},
   "outputs": [
    {
     "name": "stdout",
     "output_type": "stream",
     "text": [
      "Requirement already satisfied: pdf2image in c:\\users\\boppu\\anaconda3\\lib\\site-packages (1.16.3)Note: you may need to restart the kernel to use updated packages.\n",
      "\n",
      "Requirement already satisfied: pillow in c:\\users\\boppu\\anaconda3\\lib\\site-packages (from pdf2image) (9.4.0)\n"
     ]
    }
   ],
   "source": [
    "pip install pdf2image"
   ]
  },
  {
   "cell_type": "code",
   "execution_count": 75,
   "id": "7ffd1e53",
   "metadata": {},
   "outputs": [],
   "source": [
    "from pdf2image import convert_from_path"
   ]
  },
  {
   "cell_type": "code",
   "execution_count": 76,
   "id": "3b67c35e",
   "metadata": {
    "scrolled": true
   },
   "outputs": [],
   "source": [
    "pages = convert_from_path(r\"E:\\Medical_project\\backend\\notebooks\\prescription\\pre_1.pdf\", poppler_path=r\"E:\\poppler-23.01.0\\Library\\bin\")"
   ]
  },
  {
   "cell_type": "code",
   "execution_count": 77,
   "id": "b8d8f249",
   "metadata": {},
   "outputs": [],
   "source": [
    "pages[0].show()"
   ]
  },
  {
   "cell_type": "code",
   "execution_count": 78,
   "id": "3c6a46e7",
   "metadata": {},
   "outputs": [
    {
     "name": "stdout",
     "output_type": "stream",
     "text": [
      "Requirement already satisfied: pytesseract in c:\\users\\boppu\\anaconda3\\lib\\site-packages (0.3.10)\n",
      "Requirement already satisfied: packaging>=21.3 in c:\\users\\boppu\\anaconda3\\lib\\site-packages (from pytesseract) (22.0)\n",
      "Requirement already satisfied: Pillow>=8.0.0 in c:\\users\\boppu\\anaconda3\\lib\\site-packages (from pytesseract) (9.4.0)\n",
      "Note: you may need to restart the kernel to use updated packages.\n"
     ]
    }
   ],
   "source": [
    "pip install pytesseract"
   ]
  },
  {
   "cell_type": "code",
   "execution_count": 79,
   "id": "7c3d1da1",
   "metadata": {},
   "outputs": [],
   "source": [
    "import pytesseract"
   ]
  },
  {
   "cell_type": "code",
   "execution_count": 80,
   "id": "d87b9425",
   "metadata": {},
   "outputs": [
    {
     "name": "stdout",
     "output_type": "stream",
     "text": [
      "Dr John Smith, M.D\n",
      "2 Non-Important Street,\n",
      "New York, Phone (000)-111-2222\n",
      "\n",
      "Name: Maria Sharapova Date: 5/11/2022\n",
      "\n",
      "Address: 9 tennis court, new Russia, DC\n",
      "\n",
      "—momennannenncmneneunnmnnnnninsissiyoinnitnahaadaanih issn earnttneenrenen:\n",
      "\n",
      "Prednisone 20 mg\n",
      "Lialda 2.4 gram\n",
      "\n",
      "3 days,\n",
      "\n",
      "or 1 month\n",
      "\n"
     ]
    }
   ],
   "source": [
    "pytesseract.pytesseract.tesseract_cmd = r\"C:\\Program Files\\Tesseract-OCR\\tesseract.exe\"\n",
    "text = pytesseract.image_to_string(pages[0], lang='eng')\n",
    "print(text)"
   ]
  },
  {
   "cell_type": "code",
   "execution_count": 109,
   "id": "aed0feed",
   "metadata": {},
   "outputs": [],
   "source": [
    "import numpy as np\n",
    "\n",
    "def preprocess_image(img):\n",
    "    gray = cv2.cvtColor(np.array(img), cv2.COLOR_BGR2GRAY)\n",
    "    resized = cv2.resize(gray, None, fx=1.5, fy=1.5, interpolation=cv2.INTER_LINEAR)\n",
    "    processed_image = cv2.adaptiveThreshold(\n",
    "       resized,\n",
    "       255,\n",
    "       cv2.ADAPTIVE_THRESH_GAUSSIAN_C,\n",
    "       cv2.THRESH_BINARY,\n",
    "       61,\n",
    "       11\n",
    "    )\n",
    "    return processed_image"
   ]
  },
  {
   "cell_type": "code",
   "execution_count": 110,
   "id": "97d84111",
   "metadata": {},
   "outputs": [],
   "source": [
    "img = preprocess_image(pages[0])\n",
    "Image.fromarray(img).show()"
   ]
  },
  {
   "cell_type": "code",
   "execution_count": 111,
   "id": "4eb48886",
   "metadata": {},
   "outputs": [
    {
     "name": "stdout",
     "output_type": "stream",
     "text": [
      "Dr John Smith, M.D\n",
      "2 Non-Important Street,\n",
      "New York, Phone (000)-111-2222\n",
      "\n",
      "Name: Marta Sharapova Date: 5/11/2022\n",
      "\n",
      "Address: 9 tennis court, new Russia, DC\n",
      "\n",
      "K\n",
      "\n",
      "Prednisone 20 mg\n",
      "Lialda 2.4 gram\n",
      "\n",
      "Directions:\n",
      "\n",
      "Prednisone, Taper 5 mg every 3 days,\n",
      "Finish in 2.5 weeks a\n",
      "Lialda - take 2 pill everyday for 1 month\n",
      "\n",
      "Refill: 2 times\n",
      "\n"
     ]
    }
   ],
   "source": [
    "pytesseract.pytesseract.tesseract_cmd = r\"C:\\Program Files\\Tesseract-OCR\\tesseract.exe\"\n",
    "text = pytesseract.image_to_string(img, lang='eng')\n",
    "print(text)"
   ]
  },
  {
   "cell_type": "code",
   "execution_count": 81,
   "id": "e2c441d8",
   "metadata": {},
   "outputs": [
    {
     "name": "stdout",
     "output_type": "stream",
     "text": [
      "Requirement already satisfied: opencv_python in c:\\users\\boppu\\anaconda3\\lib\\site-packages (4.7.0.72)\n",
      "Requirement already satisfied: numpy>=1.17.0 in c:\\users\\boppu\\anaconda3\\lib\\site-packages (from opencv_python) (1.23.5)\n",
      "Note: you may need to restart the kernel to use updated packages.\n"
     ]
    }
   ],
   "source": [
    "pip install opencv_python"
   ]
  },
  {
   "cell_type": "code",
   "execution_count": 82,
   "id": "2effa70a",
   "metadata": {},
   "outputs": [
    {
     "name": "stdout",
     "output_type": "stream",
     "text": [
      "Requirement already satisfied: pillow in c:\\users\\boppu\\anaconda3\\lib\\site-packages (9.4.0)\n",
      "Note: you may need to restart the kernel to use updated packages.\n"
     ]
    }
   ],
   "source": [
    "pip install pillow"
   ]
  },
  {
   "cell_type": "code",
   "execution_count": 86,
   "id": "f5a247cf",
   "metadata": {},
   "outputs": [],
   "source": [
    "from PIL import Image"
   ]
  },
  {
   "cell_type": "code",
   "execution_count": 87,
   "id": "60a8eb6e",
   "metadata": {},
   "outputs": [],
   "source": [
    "import cv2"
   ]
  },
  {
   "cell_type": "code",
   "execution_count": 88,
   "id": "9204993f",
   "metadata": {},
   "outputs": [
    {
     "data": {
      "text/plain": [
       "array([[206, 206, 206, ..., 182, 182, 182],\n",
       "       [208, 207, 207, ..., 186, 186, 186],\n",
       "       [206, 206, 206, ..., 183, 183, 183],\n",
       "       ...,\n",
       "       [207, 209, 208, ..., 191, 191, 191],\n",
       "       [205, 209, 210, ..., 194, 194, 193],\n",
       "       [210, 206, 211, ..., 193, 193, 193]], dtype=uint8)"
      ]
     },
     "execution_count": 88,
     "metadata": {},
     "output_type": "execute_result"
    }
   ],
   "source": [
    "img=cv2.imread(r\"E:\\Medical_project\\backend\\notebooks\\prescription\\clear_image.jpg\", flags=cv2.IMREAD_GRAYSCALE)\n",
    "img"
   ]
  },
  {
   "cell_type": "code",
   "execution_count": 89,
   "id": "8cfa2ad7",
   "metadata": {},
   "outputs": [],
   "source": [
    "Image.fromarray(img).show()"
   ]
  },
  {
   "cell_type": "code",
   "execution_count": 94,
   "id": "4b2d8b96",
   "metadata": {},
   "outputs": [],
   "source": [
    "_, new_img = cv2.threshold(img,150,255,cv2.THRESH_BINARY)\n",
    "Image.fromarray(new_img).show()"
   ]
  },
  {
   "cell_type": "code",
   "execution_count": 95,
   "id": "40c0f9f8",
   "metadata": {},
   "outputs": [
    {
     "data": {
      "text/plain": [
       "array([[206, 210, 205, ..., 181, 186, 181],\n",
       "       [203, 205, 206, ..., 185, 182, 185],\n",
       "       [209, 210, 205, ..., 184, 189, 182],\n",
       "       ...,\n",
       "       [156, 158, 156, ..., 184, 179, 183],\n",
       "       [155, 155, 157, ..., 177, 178, 181],\n",
       "       [155, 152, 159, ..., 178, 177, 178]], dtype=uint8)"
      ]
     },
     "execution_count": 95,
     "metadata": {},
     "output_type": "execute_result"
    }
   ],
   "source": [
    "img=cv2.imread(r\"E:\\Medical_project\\backend\\notebooks\\prescription\\dark_image.jpg\", flags=cv2.IMREAD_GRAYSCALE)\n",
    "img"
   ]
  },
  {
   "cell_type": "code",
   "execution_count": 99,
   "id": "49e06d74",
   "metadata": {},
   "outputs": [],
   "source": [
    "new_img = cv2.adaptiveThreshold(\n",
    "    img,255,\n",
    "    cv2.ADAPTIVE_THRESH_GAUSSIAN_C,\n",
    "    cv2.THRESH_BINARY,\n",
    "    61,11      \n",
    ")\n",
    "Image.fromarray(new_img).show()"
   ]
  },
  {
   "cell_type": "code",
   "execution_count": 112,
   "id": "a06d9012",
   "metadata": {},
   "outputs": [],
   "source": [
    "pages = convert_from_path(r\"E:\\Medical_project\\backend\\notebooks\\prescription\\pre_2.pdf\", poppler_path=r\"E:\\poppler-23.01.0\\Library\\bin\")"
   ]
  },
  {
   "cell_type": "code",
   "execution_count": 113,
   "id": "f589f591",
   "metadata": {},
   "outputs": [],
   "source": [
    "pages[0].show()"
   ]
  },
  {
   "cell_type": "code",
   "execution_count": 114,
   "id": "60c984ea",
   "metadata": {},
   "outputs": [
    {
     "name": "stdout",
     "output_type": "stream",
     "text": [
      "Refill: 3 times\n",
      "\n",
      "\n"
     ]
    }
   ],
   "source": [
    "pytesseract.pytesseract.tesseract_cmd = r\"C:\\Program Files\\Tesseract-OCR\\tesseract.exe\"\n",
    "text = pytesseract.image_to_string(pages[0], lang='eng')\n",
    "print(text)"
   ]
  },
  {
   "cell_type": "code",
   "execution_count": 115,
   "id": "696ea7dd",
   "metadata": {},
   "outputs": [],
   "source": [
    "import numpy as np\n",
    "\n",
    "def preprocess_image(img):\n",
    "    gray = cv2.cvtColor(np.array(img), cv2.COLOR_BGR2GRAY)\n",
    "    resized = cv2.resize(gray, None, fx=1.5, fy=1.5, interpolation=cv2.INTER_LINEAR)\n",
    "    processed_image = cv2.adaptiveThreshold(\n",
    "       resized,\n",
    "       255,\n",
    "       cv2.ADAPTIVE_THRESH_GAUSSIAN_C,\n",
    "       cv2.THRESH_BINARY,\n",
    "       61,\n",
    "       11\n",
    "    )\n",
    "    return processed_image"
   ]
  },
  {
   "cell_type": "code",
   "execution_count": 116,
   "id": "cabb263d",
   "metadata": {},
   "outputs": [],
   "source": [
    "img = preprocess_image(pages[0])\n",
    "Image.fromarray(img).show()"
   ]
  },
  {
   "cell_type": "code",
   "execution_count": 117,
   "id": "bca69d7a",
   "metadata": {},
   "outputs": [
    {
     "name": "stdout",
     "output_type": "stream",
     "text": [
      "Dr John >mith, M.D\n",
      "\n",
      "2 Non-Important street,\n",
      "New York, Phone (900)-323- ~2222\n",
      "\n",
      "Name:  Virat Kohli Date: 2/05/2022\n",
      "\n",
      "Address: 2 cricket blvd, New Delhi\n",
      "\n",
      "| Omeprazole 40 mg\n",
      "\n",
      "Directions: Use two tablets daily for three months\n",
      "\n",
      "Refill: 3 times\n",
      "\n"
     ]
    }
   ],
   "source": [
    "pytesseract.pytesseract.tesseract_cmd = r\"C:\\Program Files\\Tesseract-OCR\\tesseract.exe\"\n",
    "text = pytesseract.image_to_string(img, lang='eng')\n",
    "print(text)"
   ]
  },
  {
   "cell_type": "code",
   "execution_count": null,
   "id": "3772261c",
   "metadata": {},
   "outputs": [],
   "source": []
  },
  {
   "cell_type": "markdown",
   "id": "69a1f6ac",
   "metadata": {},
   "source": [
    "# Regular Expressions(Regex)"
   ]
  },
  {
   "cell_type": "code",
   "execution_count": 21,
   "id": "05208fb4",
   "metadata": {},
   "outputs": [],
   "source": [
    "import re"
   ]
  },
  {
   "cell_type": "code",
   "execution_count": 22,
   "id": "cc4470c7",
   "metadata": {},
   "outputs": [
    {
     "data": {
      "text/plain": [
       "['9876543210', '(987)-654-4321']"
      ]
     },
     "execution_count": 22,
     "metadata": {},
     "output_type": "execute_result"
    }
   ],
   "source": [
    "text = \"Employee phone number is 9876543210,(987)-654-4321 and his salary is 1500$ and his expenses are 500 dollars\"\n",
    "pattern = '\\d{10}|\\(\\d{3}\\)-\\d{3}-\\d{4}'\n",
    "match = re.findall(pattern,text)\n",
    "match"
   ]
  },
  {
   "cell_type": "code",
   "execution_count": 23,
   "id": "29a51236",
   "metadata": {},
   "outputs": [
    {
     "data": {
      "text/plain": [
       "['1500$ ', ' 500 dollars']"
      ]
     },
     "execution_count": 23,
     "metadata": {},
     "output_type": "execute_result"
    }
   ],
   "source": [
    "pattern = '\\d+\\$ | \\d+ dollars'\n",
    "match = re.findall(pattern,text)\n",
    "match"
   ]
  },
  {
   "cell_type": "code",
   "execution_count": 24,
   "id": "685227e2",
   "metadata": {},
   "outputs": [
    {
     "data": {
      "text/plain": [
       "<re.Match object; span=(20, 50), match='9876543210 and salary is 1500$'>"
      ]
     },
     "execution_count": 24,
     "metadata": {},
     "output_type": "execute_result"
    }
   ],
   "source": [
    "text = \"his phone number is 9876543210 and salary is 1500$\"\n",
    "pattern = '(\\d{10})\\D+(\\d+)\\$'\n",
    "match = re.search(pattern, text)\n",
    "match"
   ]
  },
  {
   "cell_type": "code",
   "execution_count": 25,
   "id": "39811a49",
   "metadata": {},
   "outputs": [
    {
     "data": {
      "text/plain": [
       "('9876543210', '1500')"
      ]
     },
     "execution_count": 25,
     "metadata": {},
     "output_type": "execute_result"
    }
   ],
   "source": [
    "match.groups()"
   ]
  },
  {
   "cell_type": "code",
   "execution_count": 26,
   "id": "fb2261b6",
   "metadata": {},
   "outputs": [],
   "source": [
    "text = '''Name: Marta Sharapova Date: 5/11/2022\n",
    "\n",
    "    Address: 9 tennis court, new Russia, DC\n",
    "\n",
    "    Prednisone 20 mg\n",
    "    Lialda 2.4 gram\n",
    "\n",
    "    Directions:\n",
    "\n",
    "    Prednisone, Taper 5 mg every 3 days,\n",
    "    Finish in 2.5 weeks a\n",
    "    Lialda - take 2 pill everyday for 1 month\n",
    "\n",
    "    Refill: 2 times'''\n"
   ]
  },
  {
   "cell_type": "code",
   "execution_count": 27,
   "id": "54ad0e2e",
   "metadata": {},
   "outputs": [
    {
     "data": {
      "text/plain": [
       "'Marta Sharapova'"
      ]
     },
     "execution_count": 27,
     "metadata": {},
     "output_type": "execute_result"
    }
   ],
   "source": [
    "pattern = 'Name:(.*)Date:'\n",
    "match = re.findall(pattern,text)\n",
    "match[0].strip()"
   ]
  },
  {
   "cell_type": "code",
   "execution_count": 28,
   "id": "ee46c295",
   "metadata": {},
   "outputs": [
    {
     "data": {
      "text/plain": [
       "'9 tennis court, new Russia, DC'"
      ]
     },
     "execution_count": 28,
     "metadata": {},
     "output_type": "execute_result"
    }
   ],
   "source": [
    "pattern = \"Address:(.*)\\n\"\n",
    "match = re.findall(pattern, text)\n",
    "match[0].strip()"
   ]
  },
  {
   "cell_type": "code",
   "execution_count": 29,
   "id": "cb7592ac",
   "metadata": {},
   "outputs": [
    {
     "name": "stdout",
     "output_type": "stream",
     "text": [
      "Prednisone 20 mg\n",
      "    Lialda 2.4 gram\n"
     ]
    }
   ],
   "source": [
    "pattern = \"Address[^\\n]*(.*)Directions\"\n",
    "match = re.findall(pattern, text, flags=re.DOTALL)\n",
    "print(match[0].strip())"
   ]
  },
  {
   "cell_type": "code",
   "execution_count": 30,
   "id": "aaa62a0c",
   "metadata": {},
   "outputs": [
    {
     "name": "stdout",
     "output_type": "stream",
     "text": [
      "Prednisone, Taper 5 mg every 3 days,\n",
      "    Finish in 2.5 weeks a\n",
      "    Lialda - take 2 pill everyday for 1 month\n"
     ]
    }
   ],
   "source": [
    "pattern = \"Directions:(.*)Refill\"\n",
    "match = re.findall(pattern, text, flags=re.DOTALL)\n",
    "print(match[0].strip()) "
   ]
  },
  {
   "cell_type": "code",
   "execution_count": 31,
   "id": "edc04e7d",
   "metadata": {},
   "outputs": [
    {
     "name": "stdout",
     "output_type": "stream",
     "text": [
      "2\n"
     ]
    }
   ],
   "source": [
    "pattern = \"Refill:(.*)times\"\n",
    "match = re.findall(pattern, text, flags=re.DOTALL)\n",
    "print(match[0].strip()) "
   ]
  },
  {
   "cell_type": "code",
   "execution_count": 36,
   "id": "acee7e80",
   "metadata": {},
   "outputs": [],
   "source": [
    "text = '''Follow our leader Elon musk on Twitter \n",
    "        here: https://twitter.com/elonmusk, more information \n",
    "        on Tesla's products can be found at https://www.tesla.com/. \n",
    "        Also here are leading influencers for tesla-related news, \n",
    "        https://twitter.com/teslarati\n",
    "        https://twitter.com/dummy_tesla\n",
    "        https://twitter.com/dummy_2_tesla'''"
   ]
  },
  {
   "cell_type": "code",
   "execution_count": 37,
   "id": "d5478015",
   "metadata": {},
   "outputs": [
    {
     "data": {
      "text/plain": [
       "['elonmusk', 'teslarati', 'dummy_tesla', 'dummy_2_tesla']"
      ]
     },
     "execution_count": 37,
     "metadata": {},
     "output_type": "execute_result"
    }
   ],
   "source": [
    "pattern = \"https\\:\\/\\/twitter\\.com\\/([a-zA-Z0-9_]+)\"\n",
    "match = re.findall(pattern,text)\n",
    "match"
   ]
  },
  {
   "cell_type": "code",
   "execution_count": 42,
   "id": "c2143b25",
   "metadata": {},
   "outputs": [
    {
     "data": {
      "text/plain": [
       "[' our leader Elon musk on ']"
      ]
     },
     "execution_count": 42,
     "metadata": {},
     "output_type": "execute_result"
    }
   ],
   "source": [
    "pattern = \"Follow(.*)Twitter\"\n",
    "match = re.findall(pattern, text)\n",
    "match"
   ]
  },
  {
   "cell_type": "code",
   "execution_count": null,
   "id": "153de606",
   "metadata": {},
   "outputs": [],
   "source": []
  },
  {
   "cell_type": "code",
   "execution_count": null,
   "id": "188c07b4",
   "metadata": {},
   "outputs": [],
   "source": []
  }
 ],
 "metadata": {
  "kernelspec": {
   "display_name": "Python 3 (ipykernel)",
   "language": "python",
   "name": "python3"
  },
  "language_info": {
   "codemirror_mode": {
    "name": "ipython",
    "version": 3
   },
   "file_extension": ".py",
   "mimetype": "text/x-python",
   "name": "python",
   "nbconvert_exporter": "python",
   "pygments_lexer": "ipython3",
   "version": "3.10.9"
  }
 },
 "nbformat": 4,
 "nbformat_minor": 5
}
